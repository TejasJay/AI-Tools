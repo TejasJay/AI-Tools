{
  "cells": [
    {
      "cell_type": "markdown",
      "metadata": {
        "id": "aV1vLJFt_yyH"
      },
      "source": [
        "# Building an Agent with Generative Models and Tools\n",
        "\n",
        "See this repo for a fuller implementation (ready to install and use!)\n",
        "https://github.com/sinanuozdemir/squad-goals\n"
      ]
    },
    {
      "cell_type": "markdown",
      "metadata": {
        "id": "pMOKGK_E3qSl"
      },
      "source": [
        "## Imports"
      ]
    },
    {
      "cell_type": "code",
      "execution_count": null,
      "metadata": {
        "colab": {
          "base_uri": "https://localhost:8080/"
        },
        "collapsed": true,
        "id": "52V-aDb7AqWt",
        "outputId": "29de394e-b016-41c2-a641-34d697ea7964"
      },
      "outputs": [],
      "source": [
        "!pip install -q openai pinecone-client google-search-results alpaca-trade-api supabase diffusers accelerate"
      ]
    },
    {
      "cell_type": "code",
      "execution_count": null,
      "metadata": {
        "id": "d-pYjPK8JCAf"
      },
      "outputs": [],
      "source": [
        "from supabase import create_client, Client\n",
        "from openai import OpenAI\n",
        "from diffusers import StableDiffusionPipeline, DiffusionPipeline\n",
        "from serpapi import GoogleSearch\n",
        "from pydantic import BaseModel, Field\n",
        "from google.colab import userdata\n",
        "import datetime\n",
        "import re\n",
        "import os\n",
        "import sys\n",
        "import torch\n",
        "\n",
        "from copy import copy\n",
        "from functools import lru_cache\n",
        "from io import StringIO\n",
        "from typing import Dict, Optional, Any, List, Tuple\n",
        "import PIL\n",
        "import matplotlib.pyplot as plt\n"
      ]
    },
    {
      "cell_type": "markdown",
      "metadata": {
        "id": "XB4hLYWV3l2i"
      },
      "source": [
        "## Our First Tools - SERP & Python"
      ]
    },
    {
      "cell_type": "code",
      "execution_count": null,
      "metadata": {
        "id": "QI6Vij_Q_uHg"
      },
      "outputs": [],
      "source": [
        "class ToolInterface(BaseModel):\n",
        "    name: str\n",
        "    description: str\n",
        "\n",
        "    def use(self, input_text: str) -> str:\n",
        "        raise NotImplementedError(\"use() method not implemented\")  # Must implement in subclass\n",
        "\n",
        "class PythonREPLTool(ToolInterface):\n",
        "    \"\"\"A tool for running python code in a REPL.\"\"\"\n",
        "\n",
        "    globals: Optional[Dict] = Field(default_factory=dict, alias=\"_globals\")\n",
        "    locals: Optional[Dict] = Field(default_factory=dict, alias=\"_locals\")\n",
        "\n",
        "    name: str = \"Python REPL\"\n",
        "    description: str = (\n",
        "        \"A Python shell. Use this to execute python commands. \"\n",
        "        \"Input should be a valid python command. \"\n",
        "        \"If you want to see the output of a value, you should print it out \"\n",
        "        \"with `print(...)`. Include examples of using the code and print \"\n",
        "        \"the output.\"\n",
        "    )\n",
        "\n",
        "    def _run(self, command: str) -> str:\n",
        "        \"\"\"Run command with own globals/locals and returns anything printed.\"\"\"\n",
        "        old_stdout = sys.stdout\n",
        "        sys.stdout = mystdout = StringIO()\n",
        "        try:\n",
        "            exec(command, self.globals, self.locals)\n",
        "            sys.stdout = old_stdout\n",
        "            output = mystdout.getvalue()\n",
        "        except Exception as e:\n",
        "            sys.stdout = old_stdout\n",
        "            output = str(e)\n",
        "        return output.strip()\n",
        "\n",
        "    def use(self, input_text: str) -> str:\n",
        "        input_text = input_text.strip().replace(\"```python\" , \"\")\n",
        "        input_text = input_text.strip().strip(\"```\")\n",
        "        return self._run(input_text)\n"
      ]
    },
    {
      "cell_type": "code",
      "execution_count": null,
      "metadata": {
        "colab": {
          "base_uri": "https://localhost:8080/"
        },
        "id": "uSfkMTzQ_zyo",
        "outputId": "8e0957d4-a7a4-443a-a15d-c98bd8c808d6"
      },
      "outputs": [],
      "source": [
        "repl_tool = PythonREPLTool()\n",
        "result = repl_tool.use('print(1+2)')\n",
        "print(result)\n",
        "assert result == \"3\"\n"
      ]
    },
    {
      "cell_type": "code",
      "execution_count": null,
      "metadata": {
        "id": "0zGjjAfF3gL-"
      },
      "outputs": [],
      "source": []
    },
    {
      "cell_type": "code",
      "execution_count": null,
      "metadata": {
        "id": "Zi9Z-ikV3gWI"
      },
      "outputs": [],
      "source": [
        "@lru_cache(maxsize=None)\n",
        "def search(query: str) -> str:\n",
        "    params: dict = {\n",
        "        \"engine\": \"google\",\n",
        "        \"google_domain\": \"google.com\",\n",
        "        \"gl\": \"us\",\n",
        "        \"hl\": \"en\",\n",
        "        \"q\": query,\n",
        "        \"api_key\": userdata.get(\"SERP_API_KEY\"),\n",
        "    }\n",
        "\n",
        "    search = GoogleSearch(params)\n",
        "    res = search.get_dict()\n",
        "\n",
        "    return _process_response(res)\n",
        "\n",
        "\n",
        "def _process_response(res: dict) -> str:\n",
        "    \"\"\"Process response from SerpAPI.\"\"\"\n",
        "    if \"error\" in res.keys():\n",
        "        raise ValueError(f\"Got error from SerpAPI: {res['error']}\")\n",
        "    if \"answer_box\" in res.keys() and \"answer\" in res[\"answer_box\"].keys():\n",
        "        toret = res[\"answer_box\"][\"answer\"]\n",
        "    elif \"answer_box\" in res.keys() and \"snippet\" in res[\"answer_box\"].keys():\n",
        "        toret = res[\"answer_box\"][\"snippet\"]\n",
        "    elif (\n",
        "        \"answer_box\" in res.keys()\n",
        "        and \"snippet_highlighted_words\" in res[\"answer_box\"].keys()\n",
        "    ):\n",
        "        toret = res[\"answer_box\"][\"snippet_highlighted_words\"][0]\n",
        "    elif (\n",
        "        \"sports_results\" in res.keys()\n",
        "        and \"game_spotlight\" in res[\"sports_results\"].keys()\n",
        "    ):\n",
        "        toret = res[\"sports_results\"][\"game_spotlight\"]\n",
        "    elif (\n",
        "        \"knowledge_graph\" in res.keys()\n",
        "        and \"description\" in res[\"knowledge_graph\"].keys()\n",
        "    ):\n",
        "        toret = res[\"knowledge_graph\"][\"description\"]\n",
        "    elif \"snippet\" in res[\"organic_results\"][0].keys():\n",
        "        toret = res[\"organic_results\"][0][\"snippet\"]\n",
        "\n",
        "    else:\n",
        "        toret = \"No good search result found\"\n",
        "    return toret\n",
        "\n",
        "\n",
        "class SerpAPITool(ToolInterface):\n",
        "    \"\"\"Tool for Google search results.\"\"\"\n",
        "\n",
        "    name: str = \"Google Search\"\n",
        "    description: str = \"Get specific information from a search query. Input should be a question like 'How to add number in Clojure?'. Result will be the answer to the question.\"\n",
        "\n",
        "    def use(self, input_text: str) -> str:\n",
        "        return search(input_text)\n"
      ]
    },
    {
      "cell_type": "code",
      "execution_count": null,
      "metadata": {
        "colab": {
          "base_uri": "https://localhost:8080/",
          "height": 53
        },
        "id": "O00gtuZP3gq_",
        "outputId": "bd53dc3b-58ce-4c00-cd56-87e67e400b0a"
      },
      "outputs": [],
      "source": [
        "serp_tool = SerpAPITool()\n",
        "serp_tool.use(\"Who is the current Ravens QB?\")"
      ]
    },
    {
      "cell_type": "code",
      "execution_count": null,
      "metadata": {
        "colab": {
          "base_uri": "https://localhost:8080/",
          "height": 35
        },
        "id": "l_nWgtxV3ifn",
        "outputId": "b2de3621-29f0-4f9f-c13a-e855c97ed9aa"
      },
      "outputs": [],
      "source": [
        "\"\""
      ]
    },
    {
      "cell_type": "markdown",
      "metadata": {
        "id": "5SbnsCo-3jRo"
      },
      "source": [
        "## OpenAI LLM"
      ]
    },
    {
      "cell_type": "code",
      "execution_count": null,
      "metadata": {
        "id": "w8fDMBH0_5N4"
      },
      "outputs": [],
      "source": [
        "client = OpenAI(api_key=userdata.get('OPENAI_API_KEY'))\n",
        "url: str = userdata.get('SUPABASE_URL')\n",
        "key: str = userdata.get('SUPABASE_API_KEY')\n",
        "supabase: Client = create_client(url, key)\n",
        "\n",
        "class ChatLLM(BaseModel):\n",
        "    model: str = 'gpt-4o'\n",
        "    temperature: float = 0.0\n",
        "\n",
        "    def generate(self, prompt: str, stop: List[str] = None):\n",
        "        response = client.chat.completions.create(\n",
        "            model=self.model,\n",
        "            messages=[{\"role\": \"user\", \"content\": prompt}],\n",
        "            temperature=self.temperature,\n",
        "            stop=stop\n",
        "        )\n",
        "        supabase.table('cost_projecting').insert({\n",
        "            'prompt': prompt,\n",
        "            'response': response.choices[0].message.content,\n",
        "            'input_tokens': response.usage.prompt_tokens,\n",
        "            'output_tokens': response.usage.completion_tokens,\n",
        "            'model': self.model,\n",
        "            'inference_params' : {\n",
        "                'temperature': self.temperature,\n",
        "                'stop': stop\n",
        "            },\n",
        "            'is_openai': True,\n",
        "            'app': 'AGENT'\n",
        "        }).execute()\n",
        "        return response.choices[0].message.content"
      ]
    },
    {
      "cell_type": "code",
      "execution_count": null,
      "metadata": {
        "colab": {
          "base_uri": "https://localhost:8080/"
        },
        "id": "cAh4lSyQApZw",
        "outputId": "46f932ad-988e-4854-a152-b1b4483e5fa6"
      },
      "outputs": [],
      "source": [
        "llm = ChatLLM()\n",
        "result = llm.generate(prompt='Who is the president of Turkey?')\n",
        "print(result)"
      ]
    },
    {
      "cell_type": "code",
      "execution_count": null,
      "metadata": {
        "id": "0wOb454mBCPu"
      },
      "outputs": [],
      "source": [
        "FINAL_ANSWER_TOKEN = \"Assistant Response:\"\n",
        "OBSERVATION_TOKEN = \"Observation:\"\n",
        "THOUGHT_TOKEN = \"Thought:\"\n",
        "PROMPT_TEMPLATE = \"\"\"Today is {today} and you can use tools to get new information. Respond to the user's input as best as you can using the following tools:\n",
        "\n",
        "{tool_description}\n",
        "\n",
        "You must follow the following format for every single turn of the conversation:\n",
        "\n",
        "User Input: the input question you must answer\n",
        "Thought: comment on what you want to do next.\n",
        "Action: the action to take, exactly one element of [{tool_names}]\n",
        "Action Input: the input to the action\n",
        "Observation: the result of the action\n",
        "Thought: Now comment on what you want to do next.\n",
        "Action: the next action to take, exactly one element of [{tool_names}]\n",
        "Action Input: the input to the next action\n",
        "Observation: the result of the next action\n",
        "Thought: Now comment on what you want to do next.\n",
        "... (this Thought/Action/Action Input/Observation repeats until you are sure of the answer)\n",
        "Assistant Thought: I have enough information to respond to the user's input.\n",
        "Assistant Response: your final answer to the original input question\n",
        "User Input: the input question you must answer\n",
        "Thought: comment on what you want to do next.\n",
        "Action: the next action to take, exactly one element of [{tool_names}]\n",
        "Action Input: the input to the next action\n",
        "Observation: the result of the next action\n",
        "... (this Thought/Action/Action Input/Observation repeats until you are sure of the answer)\n",
        "Assistant Thought: I have enough information to respond to the user's input.\n",
        "Assistant Response: your final answer to the original input question\n",
        "\n",
        "You must end every round with \"Assistant Thought:\" and \"Assistant Response:\"\n",
        "\n",
        "Begin:\n",
        "\n",
        "{previous_responses}\n",
        "\"\"\"\n",
        "\n",
        "class Agent(BaseModel):\n",
        "    llm: ChatLLM\n",
        "    tools: List\n",
        "    prompt_template: str = PROMPT_TEMPLATE\n",
        "    max_loops: int = 5\n",
        "    # The stop pattern is used, so the LLM does not hallucinate until the end\n",
        "    stop_pattern: List[str] = [f'\\n{OBSERVATION_TOKEN}', f'\\n\\t{OBSERVATION_TOKEN}']\n",
        "    human_responses: List[str] = []\n",
        "    ai_responses: List[str] = []\n",
        "    pretty_responses: List[str] = []\n",
        "    verbose: bool = False\n",
        "\n",
        "    @property\n",
        "    def tool_description(self) -> str:\n",
        "        return \"\\n\".join([f\"{tool.name}: {tool.description}\" for tool in self.tools])\n",
        "\n",
        "    @property\n",
        "    def tool_names(self) -> str:\n",
        "        return \", \".join([tool.name for tool in self.tools])\n",
        "\n",
        "    @property\n",
        "    def tool_by_names(self) -> Dict[str, ToolInterface]:\n",
        "        return {tool.name: tool for tool in self.tools}\n",
        "\n",
        "    def run(self, question: str):\n",
        "        self.ai_responses.append(f'User Input: {question}')\n",
        "        self.human_responses.append(question)\n",
        "        previous_responses = copy(self.ai_responses)\n",
        "        num_loops = 0\n",
        "        prompt = self.prompt_template.format(\n",
        "                today = datetime.date.today(),\n",
        "                tool_description=self.tool_description,\n",
        "                tool_names=self.tool_names,\n",
        "                question=question,\n",
        "                previous_responses='{previous_responses}'\n",
        "        )\n",
        "        if self.verbose:\n",
        "            print('------')\n",
        "            print(prompt.format(previous_responses=''))\n",
        "            print('------')\n",
        "        while num_loops < self.max_loops:\n",
        "            num_loops += 1\n",
        "            curr_prompt = prompt.format(previous_responses='\\n'.join(previous_responses))\n",
        "            generated, tool, tool_input = self.decide_next_action(curr_prompt)\n",
        "            if self.verbose:\n",
        "                print('------')\n",
        "                print('CURR PROMPT')\n",
        "                print('------')\n",
        "                print(curr_prompt)\n",
        "                print('------')\n",
        "                print('------')\n",
        "                print('RAW GENERATED')\n",
        "                print('------')\n",
        "                print(generated)\n",
        "                print('------')\n",
        "            if tool == 'Assistant Response':\n",
        "                if self.verbose:\n",
        "                    print('------')\n",
        "                    print('FINAL PROMPT')\n",
        "                    print('------')\n",
        "                    print(curr_prompt)\n",
        "                    print('------')\n",
        "                self.ai_responses.append(f'Assistant Response: {tool_input}')\n",
        "                return tool_input\n",
        "            if tool not in self.tool_by_names:\n",
        "                raise ValueError(f\"Unknown tool: {tool}\")\n",
        "            if self.verbose:\n",
        "                print('tool_input', tool_input)\n",
        "            tool_result = self.tool_by_names[tool].use(tool_input)\n",
        "            if type(tool_result) == PIL.Image.Image:\n",
        "                plt.imshow(tool_result)\n",
        "                plt.show()\n",
        "            generated += f\"\\n{OBSERVATION_TOKEN} {tool_result}\\n\"\n",
        "            self.ai_responses.append(generated.strip())\n",
        "            if self.verbose:\n",
        "                print('------')\n",
        "                print('PARSED GENERATED')\n",
        "                print('------')\n",
        "                print(generated)\n",
        "                print('------')\n",
        "            previous_responses.append(generated)\n",
        "\n",
        "    def decide_next_action(self, prompt: str) -> str:\n",
        "        generated = self.llm.generate(prompt, stop=self.stop_pattern)\n",
        "\n",
        "        tool, tool_input = self._parse(generated)\n",
        "        return generated, tool, tool_input\n",
        "\n",
        "    def _parse(self, generated: str) -> Tuple[str, str]:\n",
        "        if FINAL_ANSWER_TOKEN in generated:\n",
        "            if self.verbose:\n",
        "                print('------')\n",
        "                print('FINAL ANSWER')\n",
        "                print('------')\n",
        "                print(generated)\n",
        "                print('------')\n",
        "            final_answer = generated.split(FINAL_ANSWER_TOKEN)[-1].strip()\n",
        "            self.pretty_responses.append(final_answer)\n",
        "            return \"Assistant Response\", final_answer\n",
        "        regex = r\"Action: [\\[]?(.*?)[\\]]?[\\n]*Action Input:[\\s]*(.*)\"\n",
        "        match = re.search(regex, generated, re.DOTALL)\n",
        "        if not match:\n",
        "            raise ValueError(f\"Output of LLM is not parsable for next tool use: `{generated}`\")\n",
        "        tool = match.group(1).strip()\n",
        "        tool_input = match.group(2)\n",
        "        return tool, tool_input.strip(\" \").strip('\"')\n",
        "\n"
      ]
    },
    {
      "cell_type": "code",
      "execution_count": null,
      "metadata": {
        "colab": {
          "base_uri": "https://localhost:8080/"
        },
        "id": "GaFDeYwRBKIR",
        "outputId": "6ed3ee32-0493-42ce-e0fc-4c62f482f3d8"
      },
      "outputs": [],
      "source": [
        "agent = Agent(llm=ChatLLM(), tools=[PythonREPLTool(), SerpAPITool()], verbose=True)\n",
        "result = agent.run(\"please write me a function to take in a number and return 2 times it\")\n",
        "\n",
        "print(f\"Final answer is {result}\")"
      ]
    },
    {
      "cell_type": "code",
      "execution_count": null,
      "metadata": {
        "colab": {
          "base_uri": "https://localhost:8080/"
        },
        "id": "LP75U9jpTGR4",
        "outputId": "f54a6092-82fd-48d0-a632-7546d86b306d"
      },
      "outputs": [],
      "source": [
        "for a in agent.ai_responses:\n",
        "    print(a)\n",
        "    print('------')"
      ]
    },
    {
      "cell_type": "code",
      "execution_count": null,
      "metadata": {
        "colab": {
          "base_uri": "https://localhost:8080/"
        },
        "id": "fVn7DScvHxDT",
        "outputId": "d12c0d15-0eb5-4040-8804-29ed6060fc76"
      },
      "outputs": [],
      "source": [
        "agent = Agent(llm=ChatLLM(), tools=[PythonREPLTool(), SerpAPITool()])\n",
        "result = agent.run(\"How many people are allowed on the baseball field during play?\")\n",
        "\n",
        "print(f\"Final answer is {result}\")\n",
        "\n",
        "for a in agent.ai_responses:\n",
        "    print(a)\n",
        "    print('---')"
      ]
    },
    {
      "cell_type": "code",
      "execution_count": null,
      "metadata": {
        "id": "QDqPZ0aCsnQG"
      },
      "outputs": [],
      "source": []
    },
    {
      "cell_type": "markdown",
      "metadata": {
        "id": "WLgE1Kvi4BYA"
      },
      "source": [
        "## Adding conversational tools\n",
        "\n",
        "Making our agent more efficient by letting it speak without the need of strict tools"
      ]
    },
    {
      "cell_type": "code",
      "execution_count": null,
      "metadata": {
        "colab": {
          "base_uri": "https://localhost:8080/"
        },
        "id": "jn0LtE1_svmK",
        "outputId": "b005d0f2-7388-4c97-fe5f-2e6c13b10625"
      },
      "outputs": [],
      "source": [
        "agent = Agent(llm=ChatLLM(), tools=[PythonREPLTool(), SerpAPITool()])\n",
        "\n",
        "result = agent.run(\"What state is San Francisco in?\") # probably didn't need to look that up..\n",
        "\n",
        "for a in agent.ai_responses:\n",
        "    print(a)\n",
        "    print('---')"
      ]
    },
    {
      "cell_type": "code",
      "execution_count": null,
      "metadata": {
        "id": "P3Gn-klvQXRg"
      },
      "outputs": [],
      "source": [
        "class SimplyRespond(ToolInterface):  # sometimes referred to as \"directly answer\"\n",
        "\n",
        "    name: str = 'Simply Respond'\n",
        "    description: str = 'Choose this option if the user is giving a pleasantry '\n",
        "    'or if the answer is very simple knowledge. The action input is nothing.'\n",
        "\n",
        "    def use(self, input_text: str) -> str:\n",
        "        return input_text\n",
        "\n",
        "class Inquire(ToolInterface):\n",
        "\n",
        "    name: str = 'Inquire for more Information'\n",
        "    description: str = 'Choose this option if further information is required '\n",
        "    'to respond to the user. The action input is a question to ask the user'\n",
        "\n",
        "    def use(self, input_text: str) -> str:\n",
        "        return input_text"
      ]
    },
    {
      "cell_type": "code",
      "execution_count": null,
      "metadata": {
        "colab": {
          "base_uri": "https://localhost:8080/"
        },
        "id": "RGbC_XXoQXi3",
        "outputId": "d56e75f1-691b-48b9-aee4-4e1b045217df"
      },
      "outputs": [],
      "source": [
        "agent = Agent(llm=ChatLLM(), tools=[PythonREPLTool(), SerpAPITool(), SimplyRespond(), Inquire()])\n",
        "\n",
        "result = agent.run(\"What state is San Francisco in?\") # probably Didn't look anything up\n",
        "\n",
        "for a in agent.ai_responses:\n",
        "    print(a)\n",
        "    print('---')"
      ]
    },
    {
      "cell_type": "code",
      "execution_count": null,
      "metadata": {
        "colab": {
          "base_uri": "https://localhost:8080/"
        },
        "id": "c4oo-05-RA2Z",
        "outputId": "63d0a020-6931-4d2e-b61f-e7c839ae73cf"
      },
      "outputs": [],
      "source": [
        "agent = Agent(llm=ChatLLM(), tools=[PythonREPLTool(), SerpAPITool(), SimplyRespond(), Inquire()])\n",
        "\n",
        "result = agent.run(\"Hey\") # didn't need to look that up..\n",
        "\n",
        "for a in agent.ai_responses:\n",
        "    print(a)\n",
        "    print('---')"
      ]
    },
    {
      "cell_type": "code",
      "execution_count": null,
      "metadata": {
        "colab": {
          "base_uri": "https://localhost:8080/"
        },
        "id": "tdgq3UzATXyn",
        "outputId": "8f80f025-d032-4ba7-f805-7b73723a5120"
      },
      "outputs": [],
      "source": [
        "agent = Agent(llm=ChatLLM(), tools=[PythonREPLTool(), SerpAPITool(), SimplyRespond(), Inquire()])\n",
        "\n",
        "result = agent.run(\"What state is this city in?\") # inquires for more information\n",
        "\n",
        "for a in agent.ai_responses:\n",
        "    print(a)\n",
        "    print('---')"
      ]
    },
    {
      "cell_type": "code",
      "execution_count": null,
      "metadata": {
        "colab": {
          "base_uri": "https://localhost:8080/",
          "height": 35
        },
        "id": "4SsFBi2Z9E9a",
        "outputId": "7278a190-67bb-48b6-8a52-bb079dc05c3e"
      },
      "outputs": [],
      "source": [
        "agent = Agent(llm=ChatLLM(), tools=[SimplyRespond(), PythonREPLTool(), SerpAPITool(),  Inquire()])\n",
        "agent.run(\"What is 1064 + the current price of the cryptocurrency in USD?\")  # inquiring"
      ]
    },
    {
      "cell_type": "code",
      "execution_count": null,
      "metadata": {
        "colab": {
          "base_uri": "https://localhost:8080/",
          "height": 35
        },
        "id": "IzX_d5LQtD6L",
        "outputId": "2c0c1d08-2d44-494d-abb5-1f5d918ae899"
      },
      "outputs": [],
      "source": [
        "agent.run(\"Sorry, Etheruem\")"
      ]
    },
    {
      "cell_type": "code",
      "execution_count": null,
      "metadata": {
        "colab": {
          "base_uri": "https://localhost:8080/",
          "height": 35
        },
        "id": "FyMTNmUjhf0a",
        "outputId": "06f0776a-f65c-44ab-d894-ab668bd5d773"
      },
      "outputs": [],
      "source": [
        "agent.run(\"one more thing, what day of the week is tomorrow?\")"
      ]
    },
    {
      "cell_type": "code",
      "execution_count": null,
      "metadata": {
        "colab": {
          "base_uri": "https://localhost:8080/",
          "height": 35
        },
        "id": "iv_YN0P2hf_s",
        "outputId": "7a043890-20c5-41a3-9181-af9e20e623cd"
      },
      "outputs": [],
      "source": [
        "agent.run(\"I forgot to ask, what is the reversed name of the current executive director of common crawl?\")"
      ]
    },
    {
      "cell_type": "code",
      "execution_count": null,
      "metadata": {
        "colab": {
          "base_uri": "https://localhost:8080/"
        },
        "id": "euMR-hQksNQl",
        "outputId": "f7f86407-491f-496d-a8b8-6fc0b748d419"
      },
      "outputs": [],
      "source": [
        "for h, a in list(zip(agent.human_responses, agent.pretty_responses)):\n",
        "    print(f\"{h} -> \\n\\t{a}\\n\")"
      ]
    },
    {
      "cell_type": "code",
      "execution_count": null,
      "metadata": {
        "colab": {
          "base_uri": "https://localhost:8080/"
        },
        "id": "zIHCeWg33yNl",
        "outputId": "ded521b0-99fe-4337-d545-b8d98ef68cb1"
      },
      "outputs": [],
      "source": [
        "for a in agent.ai_responses:\n",
        "    print(a)\n",
        "    print('---')"
      ]
    },
    {
      "cell_type": "markdown",
      "metadata": {
        "id": "MJpYfXFC4SiC"
      },
      "source": [
        "## Stock Price Tool\n",
        "\n",
        "A completely custom API tool to look up a paper trading account using https://alpaca.markets"
      ]
    },
    {
      "cell_type": "code",
      "execution_count": null,
      "metadata": {
        "colab": {
          "base_uri": "https://localhost:8080/",
          "height": 35
        },
        "id": "XEyNtKmKJDnw",
        "outputId": "63557b70-f44c-40ae-abb4-472a080d6aa5"
      },
      "outputs": [],
      "source": [
        "from typing import Optional, Dict\n",
        "from pydantic import BaseModel\n",
        "import alpaca_trade_api as tradeapi\n",
        "\n",
        "class CheckStockBalance(ToolInterface):\n",
        "    api_key: str\n",
        "    api_secret: str\n",
        "    base_url: str\n",
        "    api_version: str = 'v2'\n",
        "    \"\"\"A tool for checking the current stock wallet balance using Alpaca API.\"\"\"\n",
        "\n",
        "    name: str = \"Check Stock Balance\"\n",
        "    description: str = (\n",
        "        \"A tool that uses the Alpaca Trade API to retrieve the current wallet balance, \"\n",
        "        \"allowing users to check their available cash and stock positions. \"\n",
        "        \"The action input to this tool is exactly one of the following commands: \"\n",
        "        \"[get_balance]\"\n",
        "\n",
        "    )\n",
        "\n",
        "    def get_account_balance(self) -> Dict[str, float]:\n",
        "        \"\"\"Retrieves the current wallet balance including cash and account value.\"\"\"\n",
        "        alpaca_api = tradeapi.REST(\n",
        "            self.api_key, self.api_secret, self.base_url,\n",
        "            api_version=self.api_version)\n",
        "        account = alpaca_api.get_account()\n",
        "        return {\n",
        "            \"cash\": float(account.cash),\n",
        "            \"portfolio_value\": float(account.portfolio_value)\n",
        "        }\n",
        "\n",
        "    def use(self, command: str) -> str:\n",
        "        \"\"\"Run a command to get the account balance.\"\"\"\n",
        "        if command == \"get_balance\":\n",
        "            balance = self.get_account_balance()\n",
        "            return f\"Cash: ${balance['cash']}, Portfolio Value: ${balance['portfolio_value']}\"\n",
        "        else:\n",
        "            return \"Unknown command. Please use 'get_balance' to check your wallet balance.\"\n",
        "\n",
        "check_stock_balance = CheckStockBalance(\n",
        "    api_key=userdata.get('PAPER_ALPACA_API_KEY'),\n",
        "    api_secret=userdata.get('PAPER_ALPACA_API_SECRET'),\n",
        "    base_url='https://paper-api.alpaca.markets'\n",
        "    )\n",
        "\n",
        "check_stock_balance.use('get_balance')"
      ]
    },
    {
      "cell_type": "code",
      "execution_count": null,
      "metadata": {
        "colab": {
          "base_uri": "https://localhost:8080/"
        },
        "id": "SONB97SIJD0M",
        "outputId": "cda2ac54-6764-4043-d405-88615923d586"
      },
      "outputs": [],
      "source": [
        "sawyer = Agent(llm=ChatLLM(), tools=[\n",
        "    check_stock_balance,\n",
        "    PythonREPLTool(),\n",
        "    SerpAPITool(),\n",
        "    SimplyRespond(),\n",
        "    Inquire()\n",
        "])\n",
        "\n",
        "def chat_with(agent):\n",
        "# Chat loop\n",
        "    while True:\n",
        "        user_input = input(\"You (exit to quit): \")\n",
        "        if user_input.lower() in [\"exit\", \"quit\"]:\n",
        "            break\n",
        "        response = agent.run(user_input)\n",
        "        print(\"Agent:\", response)\n",
        "\n",
        "    # After exiting the loop, print all AI responses\n",
        "    print(\"\\nAI Responses:\")\n",
        "    for response in agent.ai_responses:\n",
        "        print(response)\n",
        "\n",
        "chat_with(agent := sawyer)"
      ]
    },
    {
      "cell_type": "code",
      "execution_count": null,
      "metadata": {
        "id": "TaTmGzzXuS4n"
      },
      "outputs": [],
      "source": []
    },
    {
      "cell_type": "markdown",
      "metadata": {
        "id": "8ln1WNhb4YAR"
      },
      "source": [
        "## Image Generation Tool\n",
        "\n",
        "Using Stable Diffusion to let our agent generate images"
      ]
    },
    {
      "cell_type": "code",
      "execution_count": null,
      "metadata": {
        "colab": {
          "base_uri": "https://localhost:8080/",
          "height": 216
        },
        "collapsed": true,
        "id": "amrN4zWOat55",
        "outputId": "4d93ff9a-448f-40d3-f6db-0dd316861afd"
      },
      "outputs": [],
      "source": [
        "pipe = StableDiffusionPipeline.from_pretrained(\"runwayml/stable-diffusion-v1-5\").to(\"cuda\")\n",
        "\n",
        "class StableDiffusionTool(ToolInterface):\n",
        "    \"\"\"A tool for generating images\"\"\"\n",
        "    name: str = \"Stable Diffusion\"\n",
        "    description: str = (\n",
        "        \"A tool for performing image generation using stable diffusion. \"\n",
        "        \"The action input to this tool is a prompt to create an image \"\n",
        "        \"like 'A photo of a cat on a white background' or 'A surrealist painting of a sunset'.\"\n",
        "    )\n",
        "\n",
        "    def use(self, prompt: str) -> str:\n",
        "        \"\"\"Run the stable diffusion tool.\"\"\"\n",
        "        return pipe(prompt).images[0]\n"
      ]
    },
    {
      "cell_type": "code",
      "execution_count": null,
      "metadata": {
        "colab": {
          "base_uri": "https://localhost:8080/",
          "height": 561,
          "referenced_widgets": [
            "70984c0487af4792add17b0f8ba26028",
            "ec4e7a38266643dba5633f1fa46eefe8",
            "77c3b516c4a7455e8637061f25d5844f",
            "35194afae3da4e7ba68c7aa2ff926abc",
            "e7ff4e3b7dc1458d8bf2119984817f73",
            "b7d1d95dad1e4134ac5d9bcc84ada532",
            "bb278da073f34a229bc22bcc515ea232",
            "43d84b64788a4dc6bd7f951f94220113",
            "7d34a9459b7142edb6a4095f66036cfc",
            "900809cf35014d588a7750547df77e7c",
            "d1582fee21fe4b3aaedd47224a348783"
          ]
        },
        "id": "BgHtDDOGQ9Cz",
        "outputId": "462be5ea-2328-4f2a-9eb8-17228ad60e9d"
      },
      "outputs": [],
      "source": [
        "stable_diffusion_tool = StableDiffusionTool()\n",
        "stable_diffusion_tool.use('A photo of a black cat lounging around')"
      ]
    },
    {
      "cell_type": "code",
      "execution_count": null,
      "metadata": {
        "colab": {
          "base_uri": "https://localhost:8080/",
          "height": 1000,
          "referenced_widgets": [
            "79fc3da6a529446b9fa210075bc61299",
            "76c1e76cf44d4b5a89e5150001f0621d",
            "5c9bb0c2d05f4c0a9928efb10905de08",
            "5961da6ad7ff4a998aee9dd5d6487ba7",
            "639f8fac02a6455495e6a7fe3ab8c8e7",
            "9a1ca293f43646558b13ada169aaf5ec",
            "481bc8e1b97240b588ade456440c37d0",
            "16b67bf53ecd47a08841a3646ac6e1bd",
            "3b85e3af54bf46d7aaa16d70d377f07b",
            "9ad19f31c2bd4f97a113f08c29340694",
            "7697bee2ee08429e93c0d7aaecf9ad48",
            "271086794ccc452cb2a0bfba4162759b",
            "fd9759bb817b4ea1940944baaf828217",
            "5ff40c0ae5fe46598772a92bb9d88979",
            "e47f074720eb4ebda9fa143a5d15f32d",
            "ae007e3166dc4c17ab1540d79d77ae93",
            "3292800d36d7487bb71c57fe9f13ff3d",
            "b6cc7f87415a439daeecbeff1f595b37",
            "c04b280777634234bfe1292c0ce0de43",
            "b0691b7ed5a0463c86e3bc2f4f8d0f83",
            "cc8a17cd08604026a76142308698f70c",
            "b7f2d64f59594ff98ce4441f675f9f28"
          ]
        },
        "id": "sUEkDFCh4xM9",
        "outputId": "8334c021-7c65-4fa3-c424-ee6cb51809f4"
      },
      "outputs": [],
      "source": [
        "sawyer = Agent(llm=ChatLLM(), tools=[\n",
        "    PythonREPLTool(),\n",
        "    SerpAPITool(),\n",
        "    SimplyRespond(),\n",
        "    Inquire(),\n",
        "    StableDiffusionTool(),\n",
        "    check_stock_balance\n",
        "])\n",
        "\n",
        "chat_with(sawyer)"
      ]
    },
    {
      "cell_type": "code",
      "execution_count": null,
      "metadata": {
        "id": "FBH88XOrUVgB"
      },
      "outputs": [],
      "source": []
    },
    {
      "cell_type": "markdown",
      "metadata": {
        "id": "1egfOCVj4dYL"
      },
      "source": [
        "## RAG using a lookup API\n",
        "\n",
        "Check out https://github.com/sinanuozdemir/oreilly-retrieval-augmented-gen-ai for the code for my RAG video/course\n"
      ]
    },
    {
      "cell_type": "code",
      "execution_count": null,
      "metadata": {
        "id": "5sXMZXDZLchF"
      },
      "outputs": [],
      "source": [
        "from pinecone import Pinecone\n",
        "\n",
        "class LookupTool(ToolInterface):\n",
        "    \"\"\"A tool for performing semantic searches using Pinecone and OpenAI embeddings.\"\"\"\n",
        "\n",
        "    # Pinecone setup\n",
        "    pinecone_key: str = userdata.get('PINECONE_API_KEY')\n",
        "    INDEX_NAME: str = 'semantic-search-rag'\n",
        "    ENGINE: str = 'text-embedding-3-small'\n",
        "    NAMESPACE: str = 'default'\n",
        "\n",
        "    name: str = \"Semantic Search Tool\"\n",
        "    description: str = (\n",
        "        \"A tool for performing information lookup. Look something up if you \"\n",
        "        \"are being asked about a fact. Even if the retrieved information is \"\n",
        "        \"irrelevant, mention that in the thought and answer the question.\"\n",
        "    )\n",
        "\n",
        "    def __init__(self, **data):\n",
        "        super().__init__(**data)\n",
        "\n",
        "    def get_embeddings(self, texts, engine=ENGINE):\n",
        "        response = OpenAI(api_key=userdata.get('OPENAI_API_KEY')).embeddings.create(\n",
        "            input=texts,\n",
        "            model=engine\n",
        "        )\n",
        "        return [d.embedding for d in list(response.data)]\n",
        "\n",
        "    def get_embedding(self, text, engine=ENGINE):\n",
        "        return self.get_embeddings([text], engine)[0]\n",
        "\n",
        "    def query_from_pinecone(self, query, top_k=3, include_metadata=True):\n",
        "        # get embedding from THE SAME embedder as the documents\n",
        "        query_embedding = self.get_embedding(query, engine=self.ENGINE)\n",
        "        index = Pinecone(api_key=userdata.get('PINECONE_API_KEY')).Index(name=self.INDEX_NAME)\n",
        "\n",
        "        return index.query(\n",
        "          vector=query_embedding,\n",
        "          top_k=top_k,\n",
        "          namespace=self.NAMESPACE,\n",
        "          include_metadata=include_metadata   # gets the metadata (dates, text, etc)\n",
        "        ).get('matches')[0]['metadata']['text']\n",
        "\n",
        "    def use(self, query):\n",
        "        return self.query_from_pinecone(query)\n"
      ]
    },
    {
      "cell_type": "code",
      "execution_count": null,
      "metadata": {
        "colab": {
          "base_uri": "https://localhost:8080/"
        },
        "id": "ljiZi_7oNYwm",
        "outputId": "c2afefba-46c4-43ea-9fa9-9d813f218e3c"
      },
      "outputs": [],
      "source": [
        "l = LookupTool()\n",
        "l.use('I lost my medicare card')"
      ]
    },
    {
      "cell_type": "code",
      "execution_count": null,
      "metadata": {
        "colab": {
          "base_uri": "https://localhost:8080/"
        },
        "id": "tZ_iZW5CNhEe",
        "outputId": "365b37fd-2372-402a-a2dc-7f24355b7d76"
      },
      "outputs": [],
      "source": [
        "agent = Agent(llm=ChatLLM(), tools=[PythonREPLTool(), LookupTool()])\n",
        "result = agent.run(\"What is the hash of the number I need to call to replace my medicare card\")\n",
        "\n",
        "print(f\"Final answer is {result}\")"
      ]
    },
    {
      "cell_type": "code",
      "execution_count": null,
      "metadata": {
        "colab": {
          "base_uri": "https://localhost:8080/"
        },
        "id": "-nYuiRK4O4do",
        "outputId": "387b0b7e-1dd1-4559-b881-979473418ddd"
      },
      "outputs": [],
      "source": [
        "for a in agent.ai_responses:\n",
        "    print(a)\n",
        "    print('---')"
      ]
    },
    {
      "cell_type": "markdown",
      "metadata": {
        "id": "as0g7t8W4gvq"
      },
      "source": [
        "## Basic Cost Projecting\n",
        "\n",
        "Looking at the input/output tokens in our data warehouse (Supabase)"
      ]
    },
    {
      "cell_type": "code",
      "execution_count": null,
      "metadata": {
        "colab": {
          "base_uri": "https://localhost:8080/",
          "height": 691
        },
        "id": "P2Fg5dJ1PAOp",
        "outputId": "30b63b7c-7897-469b-f561-f13012b457ef"
      },
      "outputs": [],
      "source": [
        "import pandas as pd\n",
        "\n",
        "response = supabase.table('cost_projecting').select(\"*\").eq('app', 'AGENT').execute()\n",
        "completions_df = pd.DataFrame(response.data)\n",
        "completions_df.index = pd.to_datetime(completions_df['created_at'])\n",
        "\n",
        "completions_df.head()"
      ]
    },
    {
      "cell_type": "code",
      "execution_count": null,
      "metadata": {
        "id": "C6qHscvDDVjY"
      },
      "outputs": [],
      "source": []
    }
  ],
  "metadata": {
    "accelerator": "GPU",
    "colab": {
      "gpuType": "T4",
      "provenance": []
    },
    "kernelspec": {
      "display_name": ".venv",
      "language": "python",
      "name": "python3"
    },
    "language_info": {
      "name": "python",
      "version": "3.11.13"
    },
    "widgets": {
      "application/vnd.jupyter.widget-state+json": {
        "16b67bf53ecd47a08841a3646ac6e1bd": {
          "model_module": "@jupyter-widgets/base",
          "model_module_version": "1.2.0",
          "model_name": "LayoutModel",
          "state": {
            "_model_module": "@jupyter-widgets/base",
            "_model_module_version": "1.2.0",
            "_model_name": "LayoutModel",
            "_view_count": null,
            "_view_module": "@jupyter-widgets/base",
            "_view_module_version": "1.2.0",
            "_view_name": "LayoutView",
            "align_content": null,
            "align_items": null,
            "align_self": null,
            "border": null,
            "bottom": null,
            "display": null,
            "flex": null,
            "flex_flow": null,
            "grid_area": null,
            "grid_auto_columns": null,
            "grid_auto_flow": null,
            "grid_auto_rows": null,
            "grid_column": null,
            "grid_gap": null,
            "grid_row": null,
            "grid_template_areas": null,
            "grid_template_columns": null,
            "grid_template_rows": null,
            "height": null,
            "justify_content": null,
            "justify_items": null,
            "left": null,
            "margin": null,
            "max_height": null,
            "max_width": null,
            "min_height": null,
            "min_width": null,
            "object_fit": null,
            "object_position": null,
            "order": null,
            "overflow": null,
            "overflow_x": null,
            "overflow_y": null,
            "padding": null,
            "right": null,
            "top": null,
            "visibility": null,
            "width": null
          }
        },
        "271086794ccc452cb2a0bfba4162759b": {
          "model_module": "@jupyter-widgets/controls",
          "model_module_version": "1.5.0",
          "model_name": "HBoxModel",
          "state": {
            "_dom_classes": [],
            "_model_module": "@jupyter-widgets/controls",
            "_model_module_version": "1.5.0",
            "_model_name": "HBoxModel",
            "_view_count": null,
            "_view_module": "@jupyter-widgets/controls",
            "_view_module_version": "1.5.0",
            "_view_name": "HBoxView",
            "box_style": "",
            "children": [
              "IPY_MODEL_fd9759bb817b4ea1940944baaf828217",
              "IPY_MODEL_5ff40c0ae5fe46598772a92bb9d88979",
              "IPY_MODEL_e47f074720eb4ebda9fa143a5d15f32d"
            ],
            "layout": "IPY_MODEL_ae007e3166dc4c17ab1540d79d77ae93"
          }
        },
        "3292800d36d7487bb71c57fe9f13ff3d": {
          "model_module": "@jupyter-widgets/base",
          "model_module_version": "1.2.0",
          "model_name": "LayoutModel",
          "state": {
            "_model_module": "@jupyter-widgets/base",
            "_model_module_version": "1.2.0",
            "_model_name": "LayoutModel",
            "_view_count": null,
            "_view_module": "@jupyter-widgets/base",
            "_view_module_version": "1.2.0",
            "_view_name": "LayoutView",
            "align_content": null,
            "align_items": null,
            "align_self": null,
            "border": null,
            "bottom": null,
            "display": null,
            "flex": null,
            "flex_flow": null,
            "grid_area": null,
            "grid_auto_columns": null,
            "grid_auto_flow": null,
            "grid_auto_rows": null,
            "grid_column": null,
            "grid_gap": null,
            "grid_row": null,
            "grid_template_areas": null,
            "grid_template_columns": null,
            "grid_template_rows": null,
            "height": null,
            "justify_content": null,
            "justify_items": null,
            "left": null,
            "margin": null,
            "max_height": null,
            "max_width": null,
            "min_height": null,
            "min_width": null,
            "object_fit": null,
            "object_position": null,
            "order": null,
            "overflow": null,
            "overflow_x": null,
            "overflow_y": null,
            "padding": null,
            "right": null,
            "top": null,
            "visibility": null,
            "width": null
          }
        },
        "35194afae3da4e7ba68c7aa2ff926abc": {
          "model_module": "@jupyter-widgets/controls",
          "model_module_version": "1.5.0",
          "model_name": "HTMLModel",
          "state": {
            "_dom_classes": [],
            "_model_module": "@jupyter-widgets/controls",
            "_model_module_version": "1.5.0",
            "_model_name": "HTMLModel",
            "_view_count": null,
            "_view_module": "@jupyter-widgets/controls",
            "_view_module_version": "1.5.0",
            "_view_name": "HTMLView",
            "description": "",
            "description_tooltip": null,
            "layout": "IPY_MODEL_900809cf35014d588a7750547df77e7c",
            "placeholder": "​",
            "style": "IPY_MODEL_d1582fee21fe4b3aaedd47224a348783",
            "value": " 50/50 [00:10&lt;00:00,  5.39it/s]"
          }
        },
        "3b85e3af54bf46d7aaa16d70d377f07b": {
          "model_module": "@jupyter-widgets/controls",
          "model_module_version": "1.5.0",
          "model_name": "ProgressStyleModel",
          "state": {
            "_model_module": "@jupyter-widgets/controls",
            "_model_module_version": "1.5.0",
            "_model_name": "ProgressStyleModel",
            "_view_count": null,
            "_view_module": "@jupyter-widgets/base",
            "_view_module_version": "1.2.0",
            "_view_name": "StyleView",
            "bar_color": null,
            "description_width": ""
          }
        },
        "43d84b64788a4dc6bd7f951f94220113": {
          "model_module": "@jupyter-widgets/base",
          "model_module_version": "1.2.0",
          "model_name": "LayoutModel",
          "state": {
            "_model_module": "@jupyter-widgets/base",
            "_model_module_version": "1.2.0",
            "_model_name": "LayoutModel",
            "_view_count": null,
            "_view_module": "@jupyter-widgets/base",
            "_view_module_version": "1.2.0",
            "_view_name": "LayoutView",
            "align_content": null,
            "align_items": null,
            "align_self": null,
            "border": null,
            "bottom": null,
            "display": null,
            "flex": null,
            "flex_flow": null,
            "grid_area": null,
            "grid_auto_columns": null,
            "grid_auto_flow": null,
            "grid_auto_rows": null,
            "grid_column": null,
            "grid_gap": null,
            "grid_row": null,
            "grid_template_areas": null,
            "grid_template_columns": null,
            "grid_template_rows": null,
            "height": null,
            "justify_content": null,
            "justify_items": null,
            "left": null,
            "margin": null,
            "max_height": null,
            "max_width": null,
            "min_height": null,
            "min_width": null,
            "object_fit": null,
            "object_position": null,
            "order": null,
            "overflow": null,
            "overflow_x": null,
            "overflow_y": null,
            "padding": null,
            "right": null,
            "top": null,
            "visibility": null,
            "width": null
          }
        },
        "481bc8e1b97240b588ade456440c37d0": {
          "model_module": "@jupyter-widgets/controls",
          "model_module_version": "1.5.0",
          "model_name": "DescriptionStyleModel",
          "state": {
            "_model_module": "@jupyter-widgets/controls",
            "_model_module_version": "1.5.0",
            "_model_name": "DescriptionStyleModel",
            "_view_count": null,
            "_view_module": "@jupyter-widgets/base",
            "_view_module_version": "1.2.0",
            "_view_name": "StyleView",
            "description_width": ""
          }
        },
        "5961da6ad7ff4a998aee9dd5d6487ba7": {
          "model_module": "@jupyter-widgets/controls",
          "model_module_version": "1.5.0",
          "model_name": "HTMLModel",
          "state": {
            "_dom_classes": [],
            "_model_module": "@jupyter-widgets/controls",
            "_model_module_version": "1.5.0",
            "_model_name": "HTMLModel",
            "_view_count": null,
            "_view_module": "@jupyter-widgets/controls",
            "_view_module_version": "1.5.0",
            "_view_name": "HTMLView",
            "description": "",
            "description_tooltip": null,
            "layout": "IPY_MODEL_9ad19f31c2bd4f97a113f08c29340694",
            "placeholder": "​",
            "style": "IPY_MODEL_7697bee2ee08429e93c0d7aaecf9ad48",
            "value": " 50/50 [00:09&lt;00:00,  5.30it/s]"
          }
        },
        "5c9bb0c2d05f4c0a9928efb10905de08": {
          "model_module": "@jupyter-widgets/controls",
          "model_module_version": "1.5.0",
          "model_name": "FloatProgressModel",
          "state": {
            "_dom_classes": [],
            "_model_module": "@jupyter-widgets/controls",
            "_model_module_version": "1.5.0",
            "_model_name": "FloatProgressModel",
            "_view_count": null,
            "_view_module": "@jupyter-widgets/controls",
            "_view_module_version": "1.5.0",
            "_view_name": "ProgressView",
            "bar_style": "success",
            "description": "",
            "description_tooltip": null,
            "layout": "IPY_MODEL_16b67bf53ecd47a08841a3646ac6e1bd",
            "max": 50,
            "min": 0,
            "orientation": "horizontal",
            "style": "IPY_MODEL_3b85e3af54bf46d7aaa16d70d377f07b",
            "value": 50
          }
        },
        "5ff40c0ae5fe46598772a92bb9d88979": {
          "model_module": "@jupyter-widgets/controls",
          "model_module_version": "1.5.0",
          "model_name": "FloatProgressModel",
          "state": {
            "_dom_classes": [],
            "_model_module": "@jupyter-widgets/controls",
            "_model_module_version": "1.5.0",
            "_model_name": "FloatProgressModel",
            "_view_count": null,
            "_view_module": "@jupyter-widgets/controls",
            "_view_module_version": "1.5.0",
            "_view_name": "ProgressView",
            "bar_style": "success",
            "description": "",
            "description_tooltip": null,
            "layout": "IPY_MODEL_c04b280777634234bfe1292c0ce0de43",
            "max": 50,
            "min": 0,
            "orientation": "horizontal",
            "style": "IPY_MODEL_b0691b7ed5a0463c86e3bc2f4f8d0f83",
            "value": 50
          }
        },
        "639f8fac02a6455495e6a7fe3ab8c8e7": {
          "model_module": "@jupyter-widgets/base",
          "model_module_version": "1.2.0",
          "model_name": "LayoutModel",
          "state": {
            "_model_module": "@jupyter-widgets/base",
            "_model_module_version": "1.2.0",
            "_model_name": "LayoutModel",
            "_view_count": null,
            "_view_module": "@jupyter-widgets/base",
            "_view_module_version": "1.2.0",
            "_view_name": "LayoutView",
            "align_content": null,
            "align_items": null,
            "align_self": null,
            "border": null,
            "bottom": null,
            "display": null,
            "flex": null,
            "flex_flow": null,
            "grid_area": null,
            "grid_auto_columns": null,
            "grid_auto_flow": null,
            "grid_auto_rows": null,
            "grid_column": null,
            "grid_gap": null,
            "grid_row": null,
            "grid_template_areas": null,
            "grid_template_columns": null,
            "grid_template_rows": null,
            "height": null,
            "justify_content": null,
            "justify_items": null,
            "left": null,
            "margin": null,
            "max_height": null,
            "max_width": null,
            "min_height": null,
            "min_width": null,
            "object_fit": null,
            "object_position": null,
            "order": null,
            "overflow": null,
            "overflow_x": null,
            "overflow_y": null,
            "padding": null,
            "right": null,
            "top": null,
            "visibility": null,
            "width": null
          }
        },
        "70984c0487af4792add17b0f8ba26028": {
          "model_module": "@jupyter-widgets/controls",
          "model_module_version": "1.5.0",
          "model_name": "HBoxModel",
          "state": {
            "_dom_classes": [],
            "_model_module": "@jupyter-widgets/controls",
            "_model_module_version": "1.5.0",
            "_model_name": "HBoxModel",
            "_view_count": null,
            "_view_module": "@jupyter-widgets/controls",
            "_view_module_version": "1.5.0",
            "_view_name": "HBoxView",
            "box_style": "",
            "children": [
              "IPY_MODEL_ec4e7a38266643dba5633f1fa46eefe8",
              "IPY_MODEL_77c3b516c4a7455e8637061f25d5844f",
              "IPY_MODEL_35194afae3da4e7ba68c7aa2ff926abc"
            ],
            "layout": "IPY_MODEL_e7ff4e3b7dc1458d8bf2119984817f73"
          }
        },
        "7697bee2ee08429e93c0d7aaecf9ad48": {
          "model_module": "@jupyter-widgets/controls",
          "model_module_version": "1.5.0",
          "model_name": "DescriptionStyleModel",
          "state": {
            "_model_module": "@jupyter-widgets/controls",
            "_model_module_version": "1.5.0",
            "_model_name": "DescriptionStyleModel",
            "_view_count": null,
            "_view_module": "@jupyter-widgets/base",
            "_view_module_version": "1.2.0",
            "_view_name": "StyleView",
            "description_width": ""
          }
        },
        "76c1e76cf44d4b5a89e5150001f0621d": {
          "model_module": "@jupyter-widgets/controls",
          "model_module_version": "1.5.0",
          "model_name": "HTMLModel",
          "state": {
            "_dom_classes": [],
            "_model_module": "@jupyter-widgets/controls",
            "_model_module_version": "1.5.0",
            "_model_name": "HTMLModel",
            "_view_count": null,
            "_view_module": "@jupyter-widgets/controls",
            "_view_module_version": "1.5.0",
            "_view_name": "HTMLView",
            "description": "",
            "description_tooltip": null,
            "layout": "IPY_MODEL_9a1ca293f43646558b13ada169aaf5ec",
            "placeholder": "​",
            "style": "IPY_MODEL_481bc8e1b97240b588ade456440c37d0",
            "value": "100%"
          }
        },
        "77c3b516c4a7455e8637061f25d5844f": {
          "model_module": "@jupyter-widgets/controls",
          "model_module_version": "1.5.0",
          "model_name": "FloatProgressModel",
          "state": {
            "_dom_classes": [],
            "_model_module": "@jupyter-widgets/controls",
            "_model_module_version": "1.5.0",
            "_model_name": "FloatProgressModel",
            "_view_count": null,
            "_view_module": "@jupyter-widgets/controls",
            "_view_module_version": "1.5.0",
            "_view_name": "ProgressView",
            "bar_style": "success",
            "description": "",
            "description_tooltip": null,
            "layout": "IPY_MODEL_43d84b64788a4dc6bd7f951f94220113",
            "max": 50,
            "min": 0,
            "orientation": "horizontal",
            "style": "IPY_MODEL_7d34a9459b7142edb6a4095f66036cfc",
            "value": 50
          }
        },
        "79fc3da6a529446b9fa210075bc61299": {
          "model_module": "@jupyter-widgets/controls",
          "model_module_version": "1.5.0",
          "model_name": "HBoxModel",
          "state": {
            "_dom_classes": [],
            "_model_module": "@jupyter-widgets/controls",
            "_model_module_version": "1.5.0",
            "_model_name": "HBoxModel",
            "_view_count": null,
            "_view_module": "@jupyter-widgets/controls",
            "_view_module_version": "1.5.0",
            "_view_name": "HBoxView",
            "box_style": "",
            "children": [
              "IPY_MODEL_76c1e76cf44d4b5a89e5150001f0621d",
              "IPY_MODEL_5c9bb0c2d05f4c0a9928efb10905de08",
              "IPY_MODEL_5961da6ad7ff4a998aee9dd5d6487ba7"
            ],
            "layout": "IPY_MODEL_639f8fac02a6455495e6a7fe3ab8c8e7"
          }
        },
        "7d34a9459b7142edb6a4095f66036cfc": {
          "model_module": "@jupyter-widgets/controls",
          "model_module_version": "1.5.0",
          "model_name": "ProgressStyleModel",
          "state": {
            "_model_module": "@jupyter-widgets/controls",
            "_model_module_version": "1.5.0",
            "_model_name": "ProgressStyleModel",
            "_view_count": null,
            "_view_module": "@jupyter-widgets/base",
            "_view_module_version": "1.2.0",
            "_view_name": "StyleView",
            "bar_color": null,
            "description_width": ""
          }
        },
        "900809cf35014d588a7750547df77e7c": {
          "model_module": "@jupyter-widgets/base",
          "model_module_version": "1.2.0",
          "model_name": "LayoutModel",
          "state": {
            "_model_module": "@jupyter-widgets/base",
            "_model_module_version": "1.2.0",
            "_model_name": "LayoutModel",
            "_view_count": null,
            "_view_module": "@jupyter-widgets/base",
            "_view_module_version": "1.2.0",
            "_view_name": "LayoutView",
            "align_content": null,
            "align_items": null,
            "align_self": null,
            "border": null,
            "bottom": null,
            "display": null,
            "flex": null,
            "flex_flow": null,
            "grid_area": null,
            "grid_auto_columns": null,
            "grid_auto_flow": null,
            "grid_auto_rows": null,
            "grid_column": null,
            "grid_gap": null,
            "grid_row": null,
            "grid_template_areas": null,
            "grid_template_columns": null,
            "grid_template_rows": null,
            "height": null,
            "justify_content": null,
            "justify_items": null,
            "left": null,
            "margin": null,
            "max_height": null,
            "max_width": null,
            "min_height": null,
            "min_width": null,
            "object_fit": null,
            "object_position": null,
            "order": null,
            "overflow": null,
            "overflow_x": null,
            "overflow_y": null,
            "padding": null,
            "right": null,
            "top": null,
            "visibility": null,
            "width": null
          }
        },
        "9a1ca293f43646558b13ada169aaf5ec": {
          "model_module": "@jupyter-widgets/base",
          "model_module_version": "1.2.0",
          "model_name": "LayoutModel",
          "state": {
            "_model_module": "@jupyter-widgets/base",
            "_model_module_version": "1.2.0",
            "_model_name": "LayoutModel",
            "_view_count": null,
            "_view_module": "@jupyter-widgets/base",
            "_view_module_version": "1.2.0",
            "_view_name": "LayoutView",
            "align_content": null,
            "align_items": null,
            "align_self": null,
            "border": null,
            "bottom": null,
            "display": null,
            "flex": null,
            "flex_flow": null,
            "grid_area": null,
            "grid_auto_columns": null,
            "grid_auto_flow": null,
            "grid_auto_rows": null,
            "grid_column": null,
            "grid_gap": null,
            "grid_row": null,
            "grid_template_areas": null,
            "grid_template_columns": null,
            "grid_template_rows": null,
            "height": null,
            "justify_content": null,
            "justify_items": null,
            "left": null,
            "margin": null,
            "max_height": null,
            "max_width": null,
            "min_height": null,
            "min_width": null,
            "object_fit": null,
            "object_position": null,
            "order": null,
            "overflow": null,
            "overflow_x": null,
            "overflow_y": null,
            "padding": null,
            "right": null,
            "top": null,
            "visibility": null,
            "width": null
          }
        },
        "9ad19f31c2bd4f97a113f08c29340694": {
          "model_module": "@jupyter-widgets/base",
          "model_module_version": "1.2.0",
          "model_name": "LayoutModel",
          "state": {
            "_model_module": "@jupyter-widgets/base",
            "_model_module_version": "1.2.0",
            "_model_name": "LayoutModel",
            "_view_count": null,
            "_view_module": "@jupyter-widgets/base",
            "_view_module_version": "1.2.0",
            "_view_name": "LayoutView",
            "align_content": null,
            "align_items": null,
            "align_self": null,
            "border": null,
            "bottom": null,
            "display": null,
            "flex": null,
            "flex_flow": null,
            "grid_area": null,
            "grid_auto_columns": null,
            "grid_auto_flow": null,
            "grid_auto_rows": null,
            "grid_column": null,
            "grid_gap": null,
            "grid_row": null,
            "grid_template_areas": null,
            "grid_template_columns": null,
            "grid_template_rows": null,
            "height": null,
            "justify_content": null,
            "justify_items": null,
            "left": null,
            "margin": null,
            "max_height": null,
            "max_width": null,
            "min_height": null,
            "min_width": null,
            "object_fit": null,
            "object_position": null,
            "order": null,
            "overflow": null,
            "overflow_x": null,
            "overflow_y": null,
            "padding": null,
            "right": null,
            "top": null,
            "visibility": null,
            "width": null
          }
        },
        "ae007e3166dc4c17ab1540d79d77ae93": {
          "model_module": "@jupyter-widgets/base",
          "model_module_version": "1.2.0",
          "model_name": "LayoutModel",
          "state": {
            "_model_module": "@jupyter-widgets/base",
            "_model_module_version": "1.2.0",
            "_model_name": "LayoutModel",
            "_view_count": null,
            "_view_module": "@jupyter-widgets/base",
            "_view_module_version": "1.2.0",
            "_view_name": "LayoutView",
            "align_content": null,
            "align_items": null,
            "align_self": null,
            "border": null,
            "bottom": null,
            "display": null,
            "flex": null,
            "flex_flow": null,
            "grid_area": null,
            "grid_auto_columns": null,
            "grid_auto_flow": null,
            "grid_auto_rows": null,
            "grid_column": null,
            "grid_gap": null,
            "grid_row": null,
            "grid_template_areas": null,
            "grid_template_columns": null,
            "grid_template_rows": null,
            "height": null,
            "justify_content": null,
            "justify_items": null,
            "left": null,
            "margin": null,
            "max_height": null,
            "max_width": null,
            "min_height": null,
            "min_width": null,
            "object_fit": null,
            "object_position": null,
            "order": null,
            "overflow": null,
            "overflow_x": null,
            "overflow_y": null,
            "padding": null,
            "right": null,
            "top": null,
            "visibility": null,
            "width": null
          }
        },
        "b0691b7ed5a0463c86e3bc2f4f8d0f83": {
          "model_module": "@jupyter-widgets/controls",
          "model_module_version": "1.5.0",
          "model_name": "ProgressStyleModel",
          "state": {
            "_model_module": "@jupyter-widgets/controls",
            "_model_module_version": "1.5.0",
            "_model_name": "ProgressStyleModel",
            "_view_count": null,
            "_view_module": "@jupyter-widgets/base",
            "_view_module_version": "1.2.0",
            "_view_name": "StyleView",
            "bar_color": null,
            "description_width": ""
          }
        },
        "b6cc7f87415a439daeecbeff1f595b37": {
          "model_module": "@jupyter-widgets/controls",
          "model_module_version": "1.5.0",
          "model_name": "DescriptionStyleModel",
          "state": {
            "_model_module": "@jupyter-widgets/controls",
            "_model_module_version": "1.5.0",
            "_model_name": "DescriptionStyleModel",
            "_view_count": null,
            "_view_module": "@jupyter-widgets/base",
            "_view_module_version": "1.2.0",
            "_view_name": "StyleView",
            "description_width": ""
          }
        },
        "b7d1d95dad1e4134ac5d9bcc84ada532": {
          "model_module": "@jupyter-widgets/base",
          "model_module_version": "1.2.0",
          "model_name": "LayoutModel",
          "state": {
            "_model_module": "@jupyter-widgets/base",
            "_model_module_version": "1.2.0",
            "_model_name": "LayoutModel",
            "_view_count": null,
            "_view_module": "@jupyter-widgets/base",
            "_view_module_version": "1.2.0",
            "_view_name": "LayoutView",
            "align_content": null,
            "align_items": null,
            "align_self": null,
            "border": null,
            "bottom": null,
            "display": null,
            "flex": null,
            "flex_flow": null,
            "grid_area": null,
            "grid_auto_columns": null,
            "grid_auto_flow": null,
            "grid_auto_rows": null,
            "grid_column": null,
            "grid_gap": null,
            "grid_row": null,
            "grid_template_areas": null,
            "grid_template_columns": null,
            "grid_template_rows": null,
            "height": null,
            "justify_content": null,
            "justify_items": null,
            "left": null,
            "margin": null,
            "max_height": null,
            "max_width": null,
            "min_height": null,
            "min_width": null,
            "object_fit": null,
            "object_position": null,
            "order": null,
            "overflow": null,
            "overflow_x": null,
            "overflow_y": null,
            "padding": null,
            "right": null,
            "top": null,
            "visibility": null,
            "width": null
          }
        },
        "b7f2d64f59594ff98ce4441f675f9f28": {
          "model_module": "@jupyter-widgets/controls",
          "model_module_version": "1.5.0",
          "model_name": "DescriptionStyleModel",
          "state": {
            "_model_module": "@jupyter-widgets/controls",
            "_model_module_version": "1.5.0",
            "_model_name": "DescriptionStyleModel",
            "_view_count": null,
            "_view_module": "@jupyter-widgets/base",
            "_view_module_version": "1.2.0",
            "_view_name": "StyleView",
            "description_width": ""
          }
        },
        "bb278da073f34a229bc22bcc515ea232": {
          "model_module": "@jupyter-widgets/controls",
          "model_module_version": "1.5.0",
          "model_name": "DescriptionStyleModel",
          "state": {
            "_model_module": "@jupyter-widgets/controls",
            "_model_module_version": "1.5.0",
            "_model_name": "DescriptionStyleModel",
            "_view_count": null,
            "_view_module": "@jupyter-widgets/base",
            "_view_module_version": "1.2.0",
            "_view_name": "StyleView",
            "description_width": ""
          }
        },
        "c04b280777634234bfe1292c0ce0de43": {
          "model_module": "@jupyter-widgets/base",
          "model_module_version": "1.2.0",
          "model_name": "LayoutModel",
          "state": {
            "_model_module": "@jupyter-widgets/base",
            "_model_module_version": "1.2.0",
            "_model_name": "LayoutModel",
            "_view_count": null,
            "_view_module": "@jupyter-widgets/base",
            "_view_module_version": "1.2.0",
            "_view_name": "LayoutView",
            "align_content": null,
            "align_items": null,
            "align_self": null,
            "border": null,
            "bottom": null,
            "display": null,
            "flex": null,
            "flex_flow": null,
            "grid_area": null,
            "grid_auto_columns": null,
            "grid_auto_flow": null,
            "grid_auto_rows": null,
            "grid_column": null,
            "grid_gap": null,
            "grid_row": null,
            "grid_template_areas": null,
            "grid_template_columns": null,
            "grid_template_rows": null,
            "height": null,
            "justify_content": null,
            "justify_items": null,
            "left": null,
            "margin": null,
            "max_height": null,
            "max_width": null,
            "min_height": null,
            "min_width": null,
            "object_fit": null,
            "object_position": null,
            "order": null,
            "overflow": null,
            "overflow_x": null,
            "overflow_y": null,
            "padding": null,
            "right": null,
            "top": null,
            "visibility": null,
            "width": null
          }
        },
        "cc8a17cd08604026a76142308698f70c": {
          "model_module": "@jupyter-widgets/base",
          "model_module_version": "1.2.0",
          "model_name": "LayoutModel",
          "state": {
            "_model_module": "@jupyter-widgets/base",
            "_model_module_version": "1.2.0",
            "_model_name": "LayoutModel",
            "_view_count": null,
            "_view_module": "@jupyter-widgets/base",
            "_view_module_version": "1.2.0",
            "_view_name": "LayoutView",
            "align_content": null,
            "align_items": null,
            "align_self": null,
            "border": null,
            "bottom": null,
            "display": null,
            "flex": null,
            "flex_flow": null,
            "grid_area": null,
            "grid_auto_columns": null,
            "grid_auto_flow": null,
            "grid_auto_rows": null,
            "grid_column": null,
            "grid_gap": null,
            "grid_row": null,
            "grid_template_areas": null,
            "grid_template_columns": null,
            "grid_template_rows": null,
            "height": null,
            "justify_content": null,
            "justify_items": null,
            "left": null,
            "margin": null,
            "max_height": null,
            "max_width": null,
            "min_height": null,
            "min_width": null,
            "object_fit": null,
            "object_position": null,
            "order": null,
            "overflow": null,
            "overflow_x": null,
            "overflow_y": null,
            "padding": null,
            "right": null,
            "top": null,
            "visibility": null,
            "width": null
          }
        },
        "d1582fee21fe4b3aaedd47224a348783": {
          "model_module": "@jupyter-widgets/controls",
          "model_module_version": "1.5.0",
          "model_name": "DescriptionStyleModel",
          "state": {
            "_model_module": "@jupyter-widgets/controls",
            "_model_module_version": "1.5.0",
            "_model_name": "DescriptionStyleModel",
            "_view_count": null,
            "_view_module": "@jupyter-widgets/base",
            "_view_module_version": "1.2.0",
            "_view_name": "StyleView",
            "description_width": ""
          }
        },
        "e47f074720eb4ebda9fa143a5d15f32d": {
          "model_module": "@jupyter-widgets/controls",
          "model_module_version": "1.5.0",
          "model_name": "HTMLModel",
          "state": {
            "_dom_classes": [],
            "_model_module": "@jupyter-widgets/controls",
            "_model_module_version": "1.5.0",
            "_model_name": "HTMLModel",
            "_view_count": null,
            "_view_module": "@jupyter-widgets/controls",
            "_view_module_version": "1.5.0",
            "_view_name": "HTMLView",
            "description": "",
            "description_tooltip": null,
            "layout": "IPY_MODEL_cc8a17cd08604026a76142308698f70c",
            "placeholder": "​",
            "style": "IPY_MODEL_b7f2d64f59594ff98ce4441f675f9f28",
            "value": " 50/50 [00:09&lt;00:00,  5.28it/s]"
          }
        },
        "e7ff4e3b7dc1458d8bf2119984817f73": {
          "model_module": "@jupyter-widgets/base",
          "model_module_version": "1.2.0",
          "model_name": "LayoutModel",
          "state": {
            "_model_module": "@jupyter-widgets/base",
            "_model_module_version": "1.2.0",
            "_model_name": "LayoutModel",
            "_view_count": null,
            "_view_module": "@jupyter-widgets/base",
            "_view_module_version": "1.2.0",
            "_view_name": "LayoutView",
            "align_content": null,
            "align_items": null,
            "align_self": null,
            "border": null,
            "bottom": null,
            "display": null,
            "flex": null,
            "flex_flow": null,
            "grid_area": null,
            "grid_auto_columns": null,
            "grid_auto_flow": null,
            "grid_auto_rows": null,
            "grid_column": null,
            "grid_gap": null,
            "grid_row": null,
            "grid_template_areas": null,
            "grid_template_columns": null,
            "grid_template_rows": null,
            "height": null,
            "justify_content": null,
            "justify_items": null,
            "left": null,
            "margin": null,
            "max_height": null,
            "max_width": null,
            "min_height": null,
            "min_width": null,
            "object_fit": null,
            "object_position": null,
            "order": null,
            "overflow": null,
            "overflow_x": null,
            "overflow_y": null,
            "padding": null,
            "right": null,
            "top": null,
            "visibility": null,
            "width": null
          }
        },
        "ec4e7a38266643dba5633f1fa46eefe8": {
          "model_module": "@jupyter-widgets/controls",
          "model_module_version": "1.5.0",
          "model_name": "HTMLModel",
          "state": {
            "_dom_classes": [],
            "_model_module": "@jupyter-widgets/controls",
            "_model_module_version": "1.5.0",
            "_model_name": "HTMLModel",
            "_view_count": null,
            "_view_module": "@jupyter-widgets/controls",
            "_view_module_version": "1.5.0",
            "_view_name": "HTMLView",
            "description": "",
            "description_tooltip": null,
            "layout": "IPY_MODEL_b7d1d95dad1e4134ac5d9bcc84ada532",
            "placeholder": "​",
            "style": "IPY_MODEL_bb278da073f34a229bc22bcc515ea232",
            "value": "100%"
          }
        },
        "fd9759bb817b4ea1940944baaf828217": {
          "model_module": "@jupyter-widgets/controls",
          "model_module_version": "1.5.0",
          "model_name": "HTMLModel",
          "state": {
            "_dom_classes": [],
            "_model_module": "@jupyter-widgets/controls",
            "_model_module_version": "1.5.0",
            "_model_name": "HTMLModel",
            "_view_count": null,
            "_view_module": "@jupyter-widgets/controls",
            "_view_module_version": "1.5.0",
            "_view_name": "HTMLView",
            "description": "",
            "description_tooltip": null,
            "layout": "IPY_MODEL_3292800d36d7487bb71c57fe9f13ff3d",
            "placeholder": "​",
            "style": "IPY_MODEL_b6cc7f87415a439daeecbeff1f595b37",
            "value": "100%"
          }
        }
      }
    }
  },
  "nbformat": 4,
  "nbformat_minor": 0
}
